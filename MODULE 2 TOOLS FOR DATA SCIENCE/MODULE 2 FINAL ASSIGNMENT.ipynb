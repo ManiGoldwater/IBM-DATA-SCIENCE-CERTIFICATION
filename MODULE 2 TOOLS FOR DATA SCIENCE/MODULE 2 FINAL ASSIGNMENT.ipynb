{
 "cells": [
  {
   "cell_type": "markdown",
   "id": "876a5729",
   "metadata": {
    "tags": []
   },
   "source": [
    "<center>\n",
    "\n",
    "# <span style=\"color:darkblue\">MODULE 2: TOOLS FOR DATA SCIENCE</span>\n",
    "## <span style=\"color:darkgreen\">FINAL ASSIGNMENT</span>\n",
    "### <span style=\"color:darkmagenta\">Author: Mani Goldwater</span>\n",
    "\n",
    "</center>\n"
   ]
  },
  {
   "cell_type": "code",
   "execution_count": 1,
   "id": "e0992c06",
   "metadata": {},
   "outputs": [],
   "source": [
    "from IPython.display import HTML\n",
    "def display_alert_1(message, alert_type = \"warning\"):\n",
    "    display(HTML(f\"<div class= 'alert alert-block alert-{alert_type}'> <H1> {message} </H1></div>\"))\n",
    "def display_alert_2(message, alert_type = \"warning\"):\n",
    "    display(HTML(f\"<div class= 'alert alert-block alert-{alert_type}'> <H2> {message} </H2></div>\"))\n",
    "def display_alert_color_1(message, color ,alert_type = \"info\"):\n",
    "    display(HTML(f\"<div class= 'alert alert-block alert-{alert_type}'> <H1> <span style='color:{color}'> {message} </span> </H1></div>\"))\n",
    "def display_alert_color_2(message, color ,alert_type = \"info\"):\n",
    "    display(HTML(f\"<div class= 'alert alert-block alert-{alert_type}'> <H2> <span style='color:{color}'> {message} </span> </H2></div>\"))\n",
    "def display_alert_color_3(message, color ,alert_type = \"success\"):\n",
    "    display(HTML(f\"<div class= 'alert alert-block alert-{alert_type}'> <H3> <span style='color:{color}'> {message} </span> </H3></div>\"))\n",
    "def display_alert_color_4(message, color ,alert_type = \"warning\"):\n",
    "    display(HTML(f\"<div class= 'alert alert-block alert-{alert_type}'> <H4> <span style='color:{color}'> {message} </span> </H4></div>\"))\n",
    "def display_alert_color_5(message, color ,alert_type = \"danger\"):\n",
    "    display(HTML(f\"<div class= 'alert alert-block alert-{alert_type}'> <H5> <span style='color:{color}'> {message} </span> </H5></div>\"))\n",
    "def display_alert_color_6(message, color ,alert_type = \"light\"):\n",
    "    display(HTML(f\"<div class= 'alert alert-block alert-{alert_type}'> <H6> <span style='color:{color}'> {message} </span> </H6></div>\"))"
   ]
  },
  {
   "cell_type": "code",
   "execution_count": 2,
   "id": "078b37fd",
   "metadata": {},
   "outputs": [
    {
     "data": {
      "text/html": [
       "<div class= 'alert alert-block alert-warning'> <H2> <span style='color:darkgreen'> Import Libraries </span> </H2></div>"
      ],
      "text/plain": [
       "<IPython.core.display.HTML object>"
      ]
     },
     "metadata": {},
     "output_type": "display_data"
    }
   ],
   "source": [
    "message=\"Import Libraries\"\n",
    "display_alert_color_2(message, \"darkgreen\",\"warning\")"
   ]
  },
  {
   "cell_type": "code",
   "execution_count": 3,
   "id": "fa75ac36",
   "metadata": {},
   "outputs": [],
   "source": [
    "from IPython.display import Image"
   ]
  },
  {
   "cell_type": "code",
   "execution_count": 4,
   "id": "662c0b94",
   "metadata": {},
   "outputs": [
    {
     "data": {
      "text/html": [
       "<div class= 'alert alert-block alert-warning'> <H2> <span style='color:darkgreen'> Define Variables </span> </H2></div>"
      ],
      "text/plain": [
       "<IPython.core.display.HTML object>"
      ]
     },
     "metadata": {},
     "output_type": "display_data"
    }
   ],
   "source": [
    "message=\"Define Variables\"\n",
    "display_alert_color_2(message, \"darkgreen\",\"warning\")"
   ]
  },
  {
   "cell_type": "code",
   "execution_count": 5,
   "id": "9ccc6989",
   "metadata": {},
   "outputs": [],
   "source": [
    "filename='C:/Users/fatima.s/Downloads/Mod2.png'"
   ]
  },
  {
   "cell_type": "code",
   "execution_count": 6,
   "id": "c49a095e",
   "metadata": {},
   "outputs": [
    {
     "data": {
      "text/html": [
       "<div class= 'alert alert-block alert-danger'> <H3> <span style='color:darkblue'> Exercise 2 - Create a markdown cell with the title of the notebook. (1 pt) </span> </H3></div>"
      ],
      "text/plain": [
       "<IPython.core.display.HTML object>"
      ]
     },
     "metadata": {},
     "output_type": "display_data"
    }
   ],
   "source": [
    "message=\"Exercise 2 - Create a markdown cell with the title of the notebook. (1 pt)\"\n",
    "display_alert_color_3(message, \"darkblue\",\"danger\")"
   ]
  },
  {
   "cell_type": "code",
   "execution_count": 7,
   "id": "f75a1ef4",
   "metadata": {},
   "outputs": [
    {
     "data": {
      "text/html": [
       "<div class= 'alert alert-block alert-info'> <H1> <span style='color:darkblue'> Title: Tools for Data Science - Final Assignment </span> </H1></div>"
      ],
      "text/plain": [
       "<IPython.core.display.HTML object>"
      ]
     },
     "metadata": {},
     "output_type": "display_data"
    }
   ],
   "source": [
    "message=\"Title: Tools for Data Science - Final Assignment\"\n",
    "display_alert_color_1(message, \"darkblue\",\"info\")"
   ]
  },
  {
   "cell_type": "code",
   "execution_count": 8,
   "id": "03efe26e",
   "metadata": {},
   "outputs": [
    {
     "data": {
      "text/html": [
       "<div class= 'alert alert-block alert-danger'> <H3> <span style='color:darkblue'> Exercise 3 - Create a markdown cell for an introduction. (1 pt) </span> </H3></div>"
      ],
      "text/plain": [
       "<IPython.core.display.HTML object>"
      ]
     },
     "metadata": {},
     "output_type": "display_data"
    }
   ],
   "source": [
    "message=\"Exercise 3 - Create a markdown cell for an introduction. (1 pt)\"\n",
    "display_alert_color_3(message, \"darkblue\",\"danger\")"
   ]
  },
  {
   "cell_type": "code",
   "execution_count": 9,
   "id": "4ae1566a",
   "metadata": {},
   "outputs": [
    {
     "data": {
      "text/html": [
       "<div class= 'alert alert-block alert-success'> <H4> <span style='color:darkmagenta'> 'Tools for Data Science' refers to a set of software tools and technologies that are used to collect, store, process, analyze, and visualizedata. These tools enable data scientists, analysts, and engineers to work with large and complex data sets, extract insights, and make data-drivendecisions. </span> </H4></div>"
      ],
      "text/plain": [
       "<IPython.core.display.HTML object>"
      ]
     },
     "metadata": {},
     "output_type": "display_data"
    }
   ],
   "source": [
    "message=\"'Tools for Data Science' refers to a set of software tools and technologies that are used to collect, store, process, analyze, and visualize\\\n",
    "data. These tools enable data scientists, analysts, and engineers to work with large and complex data sets, extract insights, and make data-driven\\\n",
    "decisions.\"\n",
    "display_alert_color_4(message, \"darkmagenta\",\"success\")"
   ]
  },
  {
   "cell_type": "code",
   "execution_count": 10,
   "id": "5cd1a9b9",
   "metadata": {},
   "outputs": [
    {
     "data": {
      "text/html": [
       "<div class= 'alert alert-block alert-danger'> <H3> <span style='color:darkblue'> Exercise 4 - Create a markdown cell to list data science languages. (3 pts) </span> </H3></div>"
      ],
      "text/plain": [
       "<IPython.core.display.HTML object>"
      ]
     },
     "metadata": {},
     "output_type": "display_data"
    }
   ],
   "source": [
    "message=\"Exercise 4 - Create a markdown cell to list data science languages. (3 pts)\"\n",
    "display_alert_color_3(message, \"darkblue\",\"danger\")"
   ]
  },
  {
   "cell_type": "code",
   "execution_count": 11,
   "id": "4c08843d",
   "metadata": {},
   "outputs": [
    {
     "data": {
      "text/html": [
       "<div class= 'alert alert-block alert-warning'> <H3> <span style='color:darkgreen'> Some of the commonly used tools for data science include programming languages such as Python, R, SQL, Java and Scala.Below is a brief description of their strengths and capabilities:<br><br>1) Python: Python is a high-level programming language that is widely used in data science for its simplicity, readability, and large community support. It has a variety of libraries for data science such as NumPy, Pandas, Matplotlib, and Scikit-Learn that make it an ideal choice for machine learning, data analysis, and visualization.<br><br>2) R: R is a programming language specifically designed for statistical computing and graphics. It has an extensive collection of libraries, including dplyr, tidyr, ggplot2, and caret, that make it a popular choice for data wrangling, statistical modeling, and visualization.<br><br>3) SQL: SQL (Structured Query Language) is a domain-specific language used to manage relational databases. It is an essential tool for managing and querying large datasets, and is commonly used in data warehouses and big data processing systems.<br><br>4) Java: Java is a general-purpose programming language that is commonly used in enterprise-level applications, including data science. It has a variety of libraries for machine learning and data analysis, such as Weka and Deeplearning4j, that make it a popular choice for large-scale data processing.<br><br>5) Scala: Scala is a general-purpose programming language that runs on the Java Virtual Machine (JVM) and is used for distributed computing and big data processing. It has libraries like Apache Spark, which makes it an ideal choice for distributed computing.<br><br>These are just a few of the many programming languages used in data science. The choice of language depends on the specific needs of the project, as well as the background and preferences of the data science team. </span> </H3></div>"
      ],
      "text/plain": [
       "<IPython.core.display.HTML object>"
      ]
     },
     "metadata": {},
     "output_type": "display_data"
    }
   ],
   "source": [
    "message=\"Some of the commonly used tools for data science include programming languages such as Python, R, SQL, Java and Scala.\\\n",
    "Below is a brief description of their strengths and capabilities:<br><br>\\\n",
    "1) Python: Python is a high-level programming language that is widely used in data science for its simplicity, readability, and large community support. It has a variety of libraries for data science such as NumPy, Pandas, Matplotlib, and Scikit-Learn that make it an ideal choice for machine learning, data analysis, and visualization.<br><br>\\\n",
    "2) R: R is a programming language specifically designed for statistical computing and graphics. It has an extensive collection of libraries, including dplyr, tidyr, ggplot2, and caret, that make it a popular choice for data wrangling, statistical modeling, and visualization.<br><br>\\\n",
    "3) SQL: SQL (Structured Query Language) is a domain-specific language used to manage relational databases. It is an essential tool for managing and querying large datasets, and is commonly used in data warehouses and big data processing systems.<br><br>\\\n",
    "4) Java: Java is a general-purpose programming language that is commonly used in enterprise-level applications, including data science. It has a variety of libraries for machine learning and data analysis, such as Weka and Deeplearning4j, that make it a popular choice for large-scale data processing.<br><br>\\\n",
    "5) Scala: Scala is a general-purpose programming language that runs on the Java Virtual Machine (JVM) and is used for distributed computing and big data processing. It has libraries like Apache Spark, which makes it an ideal choice for distributed computing.<br><br>\\\n",
    "These are just a few of the many programming languages used in data science. The choice of language depends on the specific needs of the project, as well as the background and preferences of the data science team.\"\n",
    "display_alert_color_3(message, \"darkgreen\",\"warning\")"
   ]
  },
  {
   "cell_type": "code",
   "execution_count": 12,
   "id": "03ce7ded",
   "metadata": {},
   "outputs": [
    {
     "data": {
      "text/html": [
       "<div class= 'alert alert-block alert-danger'> <H3> <span style='color:darkblue'> Exercise 5 - Create a markdown cell to list data science libraries. (3 pts) </span> </H3></div>"
      ],
      "text/plain": [
       "<IPython.core.display.HTML object>"
      ]
     },
     "metadata": {},
     "output_type": "display_data"
    }
   ],
   "source": [
    "message=\"Exercise 5 - Create a markdown cell to list data science libraries. (3 pts)\"\n",
    "display_alert_color_3(message, \"darkblue\",\"danger\")"
   ]
  },
  {
   "cell_type": "code",
   "execution_count": 13,
   "id": "f2871a62",
   "metadata": {},
   "outputs": [
    {
     "data": {
      "text/html": [
       "<div class= 'alert alert-block alert-success'> <H4> <span style='color:darkblue'> Here are some commonly used data science libraries grouped by their functions:<br><br>1) Data Manipulation and Cleaning<br>1a) Pandas: A library for data manipulation and analysis, providing data structures for efficiently storing and manipulating large datasets.<br>1b) NumPy: A library for numerical computing, providing powerful array processing capabilities and linear algebra functions.<br>1c) SciPy: A library for scientific computing, providing a variety of optimization, signal processing, and statistical functions.<br>1d) Dask: A library for parallel computing and distributed processing, designed to work seamlessly with Pandas and NumPy.<br><br>2) Data Visualization<br>2a) Matplotlib: A library for creating static, animated, and interactive visualizations in Python.<br>2b) Seaborn: A library built on top of Matplotlib, providing high-level interface for creating attractive and informative statistical graphics.<br>2c) Plotly: A library for creating interactive, web-based visualizations in Python and other programming languages.\\<br><br>3) Machine Learning<br>3a) Scikit-Learn: A library for machine learning, providing tools for classification, regression, clustering, and dimensionality reduction.<br>3b) TensorFlow: A library for building and training neural networks, designed for large-scale distributed computing.<br>3c) Keras: A high-level API for building and training neural networks, built on top of TensorFlow.<br>3d) PyTorch: A library for building and training neural networks, known for its ease of use and flexibility.\\<br><br>4) Natural Language Processing<br>4a) NLTK: A library for natural language processing, providing tools for tokenization, stemming, tagging, and parsing.<br>4b) spaCy: A library for natural language processing, providing tools for named entity recognition, dependency parsing, and more.<br>4c) Gensim: A library for topic modeling and document similarity analysis, designed to work with large text datasets.<br><br>5) Big Data<br>5a) PySpark: A library for distributed computing, built on top of Apache Spark and designed for working with large datasets.<br>5b) Dask: A library for parallel computing and distributed processing, designed to work with Pandas and NumPy and capable of scaling to larger datasets.<br><br>These are just a few examples of the many libraries available for data science in Python. Depending on the specific needs of a project, there may be other libraries that are better suited for the task at hand. </span> </H4></div>"
      ],
      "text/plain": [
       "<IPython.core.display.HTML object>"
      ]
     },
     "metadata": {},
     "output_type": "display_data"
    }
   ],
   "source": [
    "message=\"Here are some commonly used data science libraries grouped by their functions:<br><br>\\\n",
    "1) Data Manipulation and Cleaning<br>\\\n",
    "1a) Pandas: A library for data manipulation and analysis, providing data structures for efficiently storing and manipulating large datasets.<br>\\\n",
    "1b) NumPy: A library for numerical computing, providing powerful array processing capabilities and linear algebra functions.<br>\\\n",
    "1c) SciPy: A library for scientific computing, providing a variety of optimization, signal processing, and statistical functions.<br>\\\n",
    "1d) Dask: A library for parallel computing and distributed processing, designed to work seamlessly with Pandas and NumPy.<br><br>\\\n",
    "2) Data Visualization<br>\\\n",
    "2a) Matplotlib: A library for creating static, animated, and interactive visualizations in Python.<br>\\\n",
    "2b) Seaborn: A library built on top of Matplotlib, providing high-level interface for creating attractive and informative statistical graphics.<br>\\\n",
    "2c) Plotly: A library for creating interactive, web-based visualizations in Python and other programming languages.\\<br><br>\\\n",
    "3) Machine Learning<br>\\\n",
    "3a) Scikit-Learn: A library for machine learning, providing tools for classification, regression, clustering, and dimensionality reduction.<br>\\\n",
    "3b) TensorFlow: A library for building and training neural networks, designed for large-scale distributed computing.<br>\\\n",
    "3c) Keras: A high-level API for building and training neural networks, built on top of TensorFlow.<br>\\\n",
    "3d) PyTorch: A library for building and training neural networks, known for its ease of use and flexibility.\\<br><br>\\\n",
    "4) Natural Language Processing<br>\\\n",
    "4a) NLTK: A library for natural language processing, providing tools for tokenization, stemming, tagging, and parsing.<br>\\\n",
    "4b) spaCy: A library for natural language processing, providing tools for named entity recognition, dependency parsing, and more.<br>\\\n",
    "4c) Gensim: A library for topic modeling and document similarity analysis, designed to work with large text datasets.<br><br>\\\n",
    "5) Big Data<br>\\\n",
    "5a) PySpark: A library for distributed computing, built on top of Apache Spark and designed for working with large datasets.<br>\\\n",
    "5b) Dask: A library for parallel computing and distributed processing, designed to work with Pandas and NumPy and capable of scaling to larger datasets.<br><br>\\\n",
    "These are just a few examples of the many libraries available for data science in Python. Depending on the specific needs of a project, there may be other libraries that are better suited for the task at hand.\"\n",
    "display_alert_color_4(message, \"darkblue\",\"success\")"
   ]
  },
  {
   "cell_type": "code",
   "execution_count": 14,
   "id": "8fac7039",
   "metadata": {},
   "outputs": [
    {
     "data": {
      "text/html": [
       "<div class= 'alert alert-block alert-danger'> <H3> <span style='color:darkblue'> Exercise 6 - Create a markdown cell with a table of Data Science tools. (3 pts) </span> </H3></div>"
      ],
      "text/plain": [
       "<IPython.core.display.HTML object>"
      ]
     },
     "metadata": {},
     "output_type": "display_data"
    }
   ],
   "source": [
    "message=\"Exercise 6 - Create a markdown cell with a table of Data Science tools. (3 pts)\"\n",
    "display_alert_color_3(message, \"darkblue\",\"danger\")"
   ]
  },
  {
   "cell_type": "code",
   "execution_count": 15,
   "id": "d8127a10",
   "metadata": {},
   "outputs": [
    {
     "data": {
      "text/html": [
       "<div>\n",
       "<style scoped>\n",
       "    .dataframe tbody tr th:only-of-type {\n",
       "        vertical-align: middle;\n",
       "    }\n",
       "\n",
       "    .dataframe tbody tr th {\n",
       "        vertical-align: top;\n",
       "    }\n",
       "\n",
       "    .dataframe thead th {\n",
       "        text-align: right;\n",
       "    }\n",
       "</style>\n",
       "<table border=\"1\" class=\"dataframe\">\n",
       "  <thead>\n",
       "    <tr style=\"text-align: right;\">\n",
       "      <th></th>\n",
       "      <th>Tool</th>\n",
       "      <th>Description</th>\n",
       "    </tr>\n",
       "  </thead>\n",
       "  <tbody>\n",
       "    <tr>\n",
       "      <th>0</th>\n",
       "      <td>Python</td>\n",
       "      <td>A high-level programming language with a large...</td>\n",
       "    </tr>\n",
       "    <tr>\n",
       "      <th>1</th>\n",
       "      <td>R</td>\n",
       "      <td>A programming language specifically designed f...</td>\n",
       "    </tr>\n",
       "    <tr>\n",
       "      <th>2</th>\n",
       "      <td>SQL</td>\n",
       "      <td>A domain-specific language used to manage rela...</td>\n",
       "    </tr>\n",
       "    <tr>\n",
       "      <th>3</th>\n",
       "      <td>Java</td>\n",
       "      <td>A general-purpose programming language commonl...</td>\n",
       "    </tr>\n",
       "    <tr>\n",
       "      <th>4</th>\n",
       "      <td>Scala</td>\n",
       "      <td>A general-purpose programming language that ru...</td>\n",
       "    </tr>\n",
       "  </tbody>\n",
       "</table>\n",
       "</div>"
      ],
      "text/plain": [
       "     Tool                                        Description\n",
       "0  Python  A high-level programming language with a large...\n",
       "1       R  A programming language specifically designed f...\n",
       "2     SQL  A domain-specific language used to manage rela...\n",
       "3    Java  A general-purpose programming language commonl...\n",
       "4   Scala  A general-purpose programming language that ru..."
      ]
     },
     "execution_count": 15,
     "metadata": {},
     "output_type": "execute_result"
    }
   ],
   "source": [
    "import pandas as pd\n",
    "\n",
    "data = {\n",
    "    'Tool': ['Python', 'R', 'SQL', 'Java', 'Scala'],\n",
    "    'Description': [\n",
    "        'A high-level programming language with a large community and numerous libraries for data analysis, machine learning, and visualization.',\n",
    "        'A programming language specifically designed for statistical computing and graphics, with a wide range of libraries for data manipulation, modeling, and visualization.',\n",
    "        'A domain-specific language used to manage relational databases, and an essential tool for managing and querying large datasets.',\n",
    "        'A general-purpose programming language commonly used in enterprise-level applications, including data science, with libraries for machine learning and data analysis.',\n",
    "        'A general-purpose programming language that runs on the JVM and is commonly used for distributed computing and big data processing, with libraries like Apache Spark for distributed computing.'\n",
    "    ]\n",
    "}\n",
    "\n",
    "df = pd.DataFrame(data)\n",
    "df"
   ]
  },
  {
   "cell_type": "code",
   "execution_count": 16,
   "id": "c77ee04b",
   "metadata": {},
   "outputs": [
    {
     "data": {
      "text/html": [
       "<div class= 'alert alert-block alert-danger'> <H3> <span style='color:darkblue'> Exercise 7 - Create a markdown cell introducing arithmetic expression examples. (1 pt) </span> </H3></div>"
      ],
      "text/plain": [
       "<IPython.core.display.HTML object>"
      ]
     },
     "metadata": {},
     "output_type": "display_data"
    }
   ],
   "source": [
    "message=\"Exercise 7 - Create a markdown cell introducing arithmetic expression examples. (1 pt)\"\n",
    "display_alert_color_3(message, \"darkblue\",\"danger\")"
   ]
  },
  {
   "cell_type": "code",
   "execution_count": 17,
   "id": "f5070d56",
   "metadata": {},
   "outputs": [
    {
     "data": {
      "text/markdown": [
       "\n",
       "## Arithmetic Expression Examples\n",
       "\n",
       "Here are some examples of arithmetic expressions:\n",
       "\n",
       "1. 3 + 4 = 7\n",
       "2. 12 / 3 = 4.0\n",
       "3. 5 * 2 = 10\n",
       "4. 2 ** 3 = 8\n",
       "5. 9 - 5 = 4\n"
      ],
      "text/plain": [
       "<IPython.core.display.Markdown object>"
      ]
     },
     "execution_count": 17,
     "metadata": {},
     "output_type": "execute_result"
    }
   ],
   "source": [
    "from IPython.display import Markdown\n",
    "\n",
    "# Define the arithmetic expressions\n",
    "expression1 = \"3 + 4\"\n",
    "expression2 = \"12 / 3\"\n",
    "expression3 = \"5 * 2\"\n",
    "expression4 = \"2 ** 3\"\n",
    "expression5 = \"9 - 5\"\n",
    "\n",
    "# Define the Markdown content\n",
    "markdown_text = f\"\"\"\n",
    "## Arithmetic Expression Examples\n",
    "\n",
    "Here are some examples of arithmetic expressions:\n",
    "\n",
    "1. {expression1} = {eval(expression1)}\n",
    "2. {expression2} = {eval(expression2)}\n",
    "3. {expression3} = {eval(expression3)}\n",
    "4. {expression4} = {eval(expression4)}\n",
    "5. {expression5} = {eval(expression5)}\n",
    "\"\"\"\n",
    "\n",
    "# Display the Markdown cell\n",
    "Markdown(markdown_text)\n"
   ]
  },
  {
   "cell_type": "code",
   "execution_count": 18,
   "id": "7ce49177",
   "metadata": {},
   "outputs": [
    {
     "data": {
      "text/html": [
       "<div class= 'alert alert-block alert-danger'> <H3> <span style='color:darkblue'> Exercise 8 - Create a code cell to multiply and add numbers.(2 pts) </span> </H3></div>"
      ],
      "text/plain": [
       "<IPython.core.display.HTML object>"
      ]
     },
     "metadata": {},
     "output_type": "display_data"
    }
   ],
   "source": [
    "message=\"Exercise 8 - Create a code cell to multiply and add numbers.(2 pts)\"\n",
    "display_alert_color_3(message, \"darkblue\",\"danger\")"
   ]
  },
  {
   "cell_type": "code",
   "execution_count": 19,
   "id": "0b499ddb",
   "metadata": {},
   "outputs": [
    {
     "name": "stdout",
     "output_type": "stream",
     "text": [
      "Example 1: multiplying and adding 2 3..... Product:  6   Sum: 5\n",
      "Example 2: (50, 15)\n",
      "Example 3: (14, 9)\n",
      "Example 4: (32, 12)\n",
      "Example 5: (3.75, 4.0)\n"
     ]
    }
   ],
   "source": [
    "# CREATING FUNCTION\n",
    "# Below is an example code cell that defines a function to multiply and add two numbers:\n",
    "def multiply_and_add(num1, num2):\n",
    "    product = num1 * num2\n",
    "    total = num1 + num2\n",
    "    return (product, total)\n",
    "###################################################################################################################################\n",
    "###################################################################################################################################\n",
    "# APPLICATION OF FUNCTION\n",
    "# Below are 5 different examples of how this function can be used:\n",
    "\n",
    "# Example 1\n",
    "n1 = 2\n",
    "n2 = 3\n",
    "product, total = multiply_and_add(n1, n2)\n",
    "print(f\"Example 1: multiplying and adding {n1} {n2}..... Product: \", product, \"  Sum:\", total)\n",
    "\n",
    "# Example 2\n",
    "result2 = multiply_and_add(10, 5)\n",
    "print(\"Example 2:\", result2)\n",
    "\n",
    "# Example 3\n",
    "result3 = multiply_and_add(7, 2)\n",
    "print(\"Example 3:\", result3)\n",
    "\n",
    "# Example 4\n",
    "result4 = multiply_and_add(8, 4)\n",
    "print(\"Example 4:\", result4)\n",
    "\n",
    "# Example 5\n",
    "result5 = multiply_and_add(1.5, 2.5)\n",
    "print(\"Example 5:\", result5)\n"
   ]
  },
  {
   "cell_type": "code",
   "execution_count": 20,
   "id": "ffeb92d4",
   "metadata": {},
   "outputs": [
    {
     "data": {
      "text/html": [
       "<div class= 'alert alert-block alert-danger'> <H3> <span style='color:darkblue'> Exercise 9 - Create a code cell to convert minutes to hours. (2 pts) </span> </H3></div>"
      ],
      "text/plain": [
       "<IPython.core.display.HTML object>"
      ]
     },
     "metadata": {},
     "output_type": "display_data"
    }
   ],
   "source": [
    "message=\"Exercise 9 - Create a code cell to convert minutes to hours. (2 pts)\"\n",
    "display_alert_color_3(message, \"darkblue\",\"danger\")"
   ]
  },
  {
   "cell_type": "code",
   "execution_count": 21,
   "id": "66c6ca98",
   "metadata": {},
   "outputs": [
    {
     "name": "stdout",
     "output_type": "stream",
     "text": [
      "Example 1: Converting 60 minutes to hours, the result is: 1.0\n",
      "Example 2: Converting 120 minutes to hours, the result is: 2.0\n",
      "Example 3: Converting 180 minutes to hours, the result is: 3.0\n"
     ]
    }
   ],
   "source": [
    "# CREATING FUNCTION\n",
    "# Below is a code to create a function that converts minutes to hours:\n",
    "\n",
    "def convert_minutes_to_hours(minutes):\n",
    "    hours = minutes / 60\n",
    "    return hours\n",
    "\n",
    "###################################################################################################################################\n",
    "###################################################################################################################################\n",
    "# APPLICATION OF FUNCTION\n",
    "# Below are 3 different examples of how this function can be used:\n",
    "# Example 1:\n",
    "t = 60\n",
    "print(f\"Example 1: Converting {t} minutes to hours, the result is:\" , convert_minutes_to_hours(t))\n",
    "# Example 2:\n",
    "t = 120\n",
    "print(f\"Example 2: Converting {t} minutes to hours, the result is:\" , convert_minutes_to_hours(t))\n",
    "# Example 3:\n",
    "t = 180\n",
    "print(f\"Example 3: Converting {t} minutes to hours, the result is:\" , convert_minutes_to_hours(t))\n"
   ]
  },
  {
   "cell_type": "code",
   "execution_count": 22,
   "id": "2822f045",
   "metadata": {},
   "outputs": [
    {
     "data": {
      "text/html": [
       "<div class= 'alert alert-block alert-danger'> <H3> <span style='color:darkblue'> Exercise 10 - Insert a markdown cell to list Objectives. (3 pts) </span> </H3></div>"
      ],
      "text/plain": [
       "<IPython.core.display.HTML object>"
      ]
     },
     "metadata": {},
     "output_type": "display_data"
    }
   ],
   "source": [
    "message=\"Exercise 10 - Insert a markdown cell to list Objectives. (3 pts)\"\n",
    "display_alert_color_3(message, \"darkblue\",\"danger\")"
   ]
  },
  {
   "cell_type": "markdown",
   "id": "18a4ee2f",
   "metadata": {},
   "source": [
    "## <span style=\"color:darkmagenta\">Objectives</span>\n",
    "#### <span style=\"color:darkgreen\"> &bull; To learn and apply fundamental programming concepts</span>\n",
    "#### <span style=\"color:darkgreen\"> &bull; To develop problem-solving skills</span>\n",
    "#### <span style=\"color:darkgreen\"> &bull; To gain proficiency in a programming language</span>"
   ]
  },
  {
   "cell_type": "code",
   "execution_count": 23,
   "id": "25336802",
   "metadata": {},
   "outputs": [
    {
     "data": {
      "text/html": [
       "<div class= 'alert alert-block alert-danger'> <H3> <span style='color:darkblue'> Exercise 11 - Create a markdown cell to indicate the Author’s name. (2 pts) </span> </H3></div>"
      ],
      "text/plain": [
       "<IPython.core.display.HTML object>"
      ]
     },
     "metadata": {},
     "output_type": "display_data"
    }
   ],
   "source": [
    "message=\"Exercise 11 - Create a markdown cell to indicate the Author’s name. (2 pts)\"\n",
    "display_alert_color_3(message, \"darkblue\",\"danger\")"
   ]
  },
  {
   "cell_type": "markdown",
   "id": "2da63081",
   "metadata": {},
   "source": [
    "## <span style=\"color:darkblue\">Author: Mani Goldwater</span>"
   ]
  },
  {
   "cell_type": "code",
   "execution_count": 24,
   "id": "ac8aecfc",
   "metadata": {},
   "outputs": [
    {
     "data": {
      "text/html": [
       "<div class= 'alert alert-block alert-danger'> <H3> <span style='color:darkblue'> Exercise 12 - Share your notebook through GitHub (3 pts) </span> </H3></div>"
      ],
      "text/plain": [
       "<IPython.core.display.HTML object>"
      ]
     },
     "metadata": {},
     "output_type": "display_data"
    }
   ],
   "source": [
    "message=\"Exercise 12 - Share your notebook through GitHub (3 pts)\"\n",
    "display_alert_color_3(message, \"darkblue\",\"danger\")"
   ]
  },
  {
   "cell_type": "markdown",
   "id": "d2ad680a",
   "metadata": {},
   "source": [
    "<a href=\"https://github.com/ManiGoldwater/IBM-DATA-SCIENCE-CERTIFICATION/blob/main/MODULE%202%20TOOLS%20FOR%20DATA%20SCIENCE/MODULE%202%20FINAL%20ASSIGNMENT.ipynb\" style=\"color: #008CBA; font-weight: bold;\">Link to GitHub Repository</a>"
   ]
  },
  {
   "cell_type": "code",
   "execution_count": 25,
   "id": "f9c61215",
   "metadata": {},
   "outputs": [
    {
     "data": {
      "text/html": [
       "<div class= 'alert alert-block alert-danger'> <H3> <span style='color:darkblue'> Exercise 13 - Take a screenshot of the first page of the notebook. (1 pt) </span> </H3></div>"
      ],
      "text/plain": [
       "<IPython.core.display.HTML object>"
      ]
     },
     "metadata": {},
     "output_type": "display_data"
    }
   ],
   "source": [
    "message=\"Exercise 13 - Take a screenshot of the first page of the notebook. (1 pt)\"\n",
    "display_alert_color_3(message, \"darkblue\",\"danger\")"
   ]
  },
  {
   "cell_type": "code",
   "execution_count": 26,
   "id": "e2e2113f",
   "metadata": {},
   "outputs": [
    {
     "data": {
      "image/png": "[encoded data removed]",
      "text/plain": [
       "<IPython.core.display.Image object>"
      ]
     },
     "execution_count": 26,
     "metadata": {},
     "output_type": "execute_result"
    }
   ],
   "source": [
    "from IPython.display import Image\n",
    "Image(filename=filename)"
   ]
  }
 ],
 "metadata": {
  "kernelspec": {
   "display_name": "Python 3",
   "language": "python",
   "name": "python3"
  },
  "language_info": {
   "codemirror_mode": {
    "name": "ipython",
    "version": 3
   },
   "file_extension": ".py",
   "mimetype": "text/x-python",
   "name": "python",
   "nbconvert_exporter": "python",
   "pygments_lexer": "ipython3",
   "version": "3.8.5"
  },
  "vp": {
   "vp_config_version": "1.0.0",
   "vp_menu_width": 273,
   "vp_note_display": false,
   "vp_note_width": 0,
   "vp_position": {
    "width": 278
   },
   "vp_section_display": false,
   "vp_signature": "VisualPython"
  }
 },
 "nbformat": 4,
 "nbformat_minor": 5
}
